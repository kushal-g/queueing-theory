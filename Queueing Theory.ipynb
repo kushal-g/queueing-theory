{
 "cells": [
  {
   "cell_type": "markdown",
   "metadata": {},
   "source": [
    "# M/M/1 : inf / FIFO"
   ]
  },
  {
   "cell_type": "markdown",
   "metadata": {},
   "source": [
    "## Idle rate"
   ]
  },
  {
   "cell_type": "code",
   "execution_count": 1,
   "metadata": {},
   "outputs": [
    {
     "data": {
      "text/plain": [
       "0.33333333333333337"
      ]
     },
     "execution_count": 1,
     "metadata": {},
     "output_type": "execute_result"
    }
   ],
   "source": [
    "lamb = 2\n",
    "nu = 3\n",
    "p = lamb / nu\n",
    "idle_rate = 1 - p\n",
    "idle_rate"
   ]
  },
  {
   "cell_type": "markdown",
   "metadata": {},
   "source": [
    "## Expected idle time"
   ]
  },
  {
   "cell_type": "code",
   "execution_count": 2,
   "metadata": {},
   "outputs": [
    {
     "data": {
      "text/plain": [
       "8.0"
      ]
     },
     "execution_count": 2,
     "metadata": {},
     "output_type": "execute_result"
    }
   ],
   "source": [
    "lamb = 2\n",
    "nu = 3\n",
    "service_time = 24\n",
    "p = lamb / nu\n",
    "idle_rate = 1 - p\n",
    "idle_time = idle_rate*service_time\n",
    "idle_time"
   ]
  },
  {
   "cell_type": "markdown",
   "metadata": {},
   "source": [
    "## Expected customers in system "
   ]
  },
  {
   "cell_type": "code",
   "execution_count": 7,
   "metadata": {},
   "outputs": [
    {
     "data": {
      "text/plain": [
       "0.42857142857142866"
      ]
     },
     "execution_count": 7,
     "metadata": {},
     "output_type": "execute_result"
    }
   ],
   "source": [
    "lamb = 1/10\n",
    "nu = 1/3\n",
    "p = lamb / nu\n",
    "En = p/(1-p)\n",
    "En"
   ]
  },
  {
   "cell_type": "markdown",
   "metadata": {},
   "source": [
    "## Expected customers in queue"
   ]
  },
  {
   "cell_type": "code",
   "execution_count": 6,
   "metadata": {},
   "outputs": [
    {
     "data": {
      "text/plain": [
       "0.12857142857142861"
      ]
     },
     "execution_count": 6,
     "metadata": {},
     "output_type": "execute_result"
    }
   ],
   "source": [
    "lamb = 1/10\n",
    "nu = 1/3\n",
    "p = lamb / nu\n",
    "Em = (p/(1-p)) - p\n",
    "Em"
   ]
  },
  {
   "cell_type": "markdown",
   "metadata": {},
   "source": [
    "## Expected waiting time in system"
   ]
  },
  {
   "cell_type": "code",
   "execution_count": 10,
   "metadata": {},
   "outputs": [
    {
     "data": {
      "text/plain": [
       "90.00000000000001"
      ]
     },
     "execution_count": 10,
     "metadata": {},
     "output_type": "execute_result"
    }
   ],
   "source": [
    "lamb = 1/45\n",
    "nu = 1/30\n",
    "Ws = 1/(nu - lamb)\n",
    "Ws"
   ]
  },
  {
   "cell_type": "markdown",
   "metadata": {},
   "source": [
    "## Expected waiting time in queue"
   ]
  },
  {
   "cell_type": "code",
   "execution_count": 11,
   "metadata": {},
   "outputs": [
    {
     "data": {
      "text/plain": [
       "60.000000000000014"
      ]
     },
     "execution_count": 11,
     "metadata": {},
     "output_type": "execute_result"
    }
   ],
   "source": [
    "lamb = 1/45\n",
    "nu = 1/30\n",
    "Wq = lamb/(nu*(nu-lamb))\n",
    "Wq"
   ]
  },
  {
   "cell_type": "markdown",
   "metadata": {},
   "source": [
    "## Expected length of  non-empty queue from time to time"
   ]
  },
  {
   "cell_type": "code",
   "execution_count": 13,
   "metadata": {},
   "outputs": [
    {
     "data": {
      "text/plain": [
       "1.4285714285714286"
      ]
     },
     "execution_count": 13,
     "metadata": {},
     "output_type": "execute_result"
    }
   ],
   "source": [
    "lamb = 1/10\n",
    "nu = 1/3\n",
    "Et = nu/(nu-lamb)\n",
    "Et"
   ]
  },
  {
   "cell_type": "markdown",
   "metadata": {},
   "source": [
    "## Probability that zero customers are waiting"
   ]
  },
  {
   "cell_type": "code",
   "execution_count": 14,
   "metadata": {},
   "outputs": [
    {
     "data": {
      "text/plain": [
       "0.7"
      ]
     },
     "execution_count": 14,
     "metadata": {},
     "output_type": "execute_result"
    }
   ],
   "source": [
    "lamb = 1/10\n",
    "nu = 1/3\n",
    "p = lamb/nu\n",
    "P0 = 1 - p\n",
    "P0"
   ]
  },
  {
   "cell_type": "markdown",
   "metadata": {},
   "source": [
    "## Probability of n customers waiting in queue"
   ]
  },
  {
   "cell_type": "code",
   "execution_count": 21,
   "metadata": {},
   "outputs": [
    {
     "data": {
      "text/plain": [
       "0.7"
      ]
     },
     "execution_count": 21,
     "metadata": {},
     "output_type": "execute_result"
    }
   ],
   "source": [
    "lamb = 1/10\n",
    "nu = 1/3\n",
    "n =0\n",
    "Pn = (1-(lamb/nu))/((lamb/nu)**n)\n",
    "Pn"
   ]
  },
  {
   "cell_type": "markdown",
   "metadata": {},
   "source": [
    "## Probability that number of customers are >=k"
   ]
  },
  {
   "cell_type": "code",
   "execution_count": 23,
   "metadata": {},
   "outputs": [
    {
     "data": {
      "text/plain": [
       "0.09000000000000002"
      ]
     },
     "execution_count": 23,
     "metadata": {},
     "output_type": "execute_result"
    }
   ],
   "source": [
    "lamb = 1/10\n",
    "nu = 1/3\n",
    "k = 2\n",
    "Pn_k = (lamb/nu)**k\n",
    "Pn_k"
   ]
  },
  {
   "cell_type": "markdown",
   "metadata": {},
   "source": [
    "## Probability of spending more than w time in system"
   ]
  },
  {
   "cell_type": "code",
   "execution_count": 26,
   "metadata": {},
   "outputs": [
    {
     "data": {
      "text/plain": [
       "0.0029282996948181888"
      ]
     },
     "execution_count": 26,
     "metadata": {},
     "output_type": "execute_result"
    }
   ],
   "source": [
    "import math\n",
    "lamb = 1/10\n",
    "nu = 1/3\n",
    "w = 25\n",
    "\n",
    "Ws_w = math.exp(-(nu-lamb)*w)\n",
    "Ws_w"
   ]
  },
  {
   "cell_type": "markdown",
   "metadata": {},
   "source": [
    "## Probability that number of customers >k in system"
   ]
  },
  {
   "cell_type": "code",
   "execution_count": 27,
   "metadata": {},
   "outputs": [
    {
     "data": {
      "text/plain": [
       "1.09"
      ]
     },
     "execution_count": 27,
     "metadata": {},
     "output_type": "execute_result"
    }
   ],
   "source": [
    "lamb = 1/10\n",
    "nu = 1/3\n",
    "k = 2\n",
    "Pn_k = (lamb/nu)**k+1\n",
    "Pn_k"
   ]
  },
  {
   "cell_type": "markdown",
   "metadata": {},
   "source": [
    "## Probability that waiting time in queue > w"
   ]
  },
  {
   "cell_type": "code",
   "execution_count": 28,
   "metadata": {},
   "outputs": [
    {
     "data": {
      "text/plain": [
       "0.0008784899084454568"
      ]
     },
     "execution_count": 28,
     "metadata": {},
     "output_type": "execute_result"
    }
   ],
   "source": [
    "import math\n",
    "lamb = 1/10\n",
    "nu = 1/3\n",
    "w = 25\n",
    "\n",
    "Ws_w = (lamb/nu)*math.exp(-(nu-lamb)*w)\n",
    "Ws_w"
   ]
  },
  {
   "cell_type": "markdown",
   "metadata": {},
   "source": [
    "# M/M/1 : C/FIFO"
   ]
  },
  {
   "cell_type": "markdown",
   "metadata": {},
   "source": [
    "## Probability of n customers in system"
   ]
  },
  {
   "cell_type": "code",
   "execution_count": 32,
   "metadata": {},
   "outputs": [
    {
     "data": {
      "text/plain": [
       "0.26491849136001344"
      ]
     },
     "execution_count": 32,
     "metadata": {},
     "output_type": "execute_result"
    }
   ],
   "source": [
    "lamb = 1/48\n",
    "nu = 1/36\n",
    "c = 9 \n",
    "n = 0\n",
    "p = lamb/nu\n",
    "\n",
    "Pn = (1/(c+1)) if p==1 else (((1-p)*p**n)/(1-p**(c+1)))\n",
    "Pn"
   ]
  },
  {
   "cell_type": "markdown",
   "metadata": {},
   "source": [
    "## Average number of customers in system"
   ]
  },
  {
   "cell_type": "code",
   "execution_count": 45,
   "metadata": {},
   "outputs": [
    {
     "data": {
      "text/plain": [
       "3.1316679677335415"
      ]
     },
     "execution_count": 45,
     "metadata": {},
     "output_type": "execute_result"
    }
   ],
   "source": [
    "lamb = 5\n",
    "nu = 4\n",
    "c = 5\n",
    "p = lamb/nu\n",
    "\n",
    "P0 = (1/(c+1)) if p==1 else (((1-p)*p**0)/(1-p**(c+1)))\n",
    "\n",
    "if(p==1):\n",
    "    En = c/2\n",
    "else:\n",
    "    summation = 0\n",
    "    for i in range(c+1):\n",
    "        summation += i*(p**i)\n",
    "    En = P0*summation\n",
    "En"
   ]
  },
  {
   "cell_type": "code",
   "execution_count": null,
   "metadata": {},
   "outputs": [],
   "source": []
  },
  {
   "cell_type": "code",
   "execution_count": null,
   "metadata": {},
   "outputs": [],
   "source": []
  },
  {
   "cell_type": "markdown",
   "metadata": {},
   "source": [
    "## Average number of customers in queue"
   ]
  },
  {
   "cell_type": "code",
   "execution_count": null,
   "metadata": {},
   "outputs": [],
   "source": []
  },
  {
   "cell_type": "code",
   "execution_count": 49,
   "metadata": {},
   "outputs": [
    {
     "data": {
      "text/plain": [
       "1.8816679677335415"
      ]
     },
     "execution_count": 49,
     "metadata": {},
     "output_type": "execute_result"
    }
   ],
   "source": [
    "lamb = 5\n",
    "nu = 4\n",
    "c = 5\n",
    "p = lamb/nu\n",
    "\n",
    "P0 = (1/(c+1)) if p==1 else (((1-p)*p**0)/(1-p**(c+1)))\n",
    "\n",
    "if(p==1):\n",
    "    En = c/2\n",
    "else:\n",
    "    summation = 0\n",
    "    for i in range(c+1):\n",
    "        summation += i*(p**i)\n",
    "    En = P0*summation\n",
    "Em = En - p\n",
    "Em"
   ]
  },
  {
   "cell_type": "markdown",
   "metadata": {},
   "source": [
    "## Average waiting time in system"
   ]
  },
  {
   "cell_type": "code",
   "execution_count": 53,
   "metadata": {},
   "outputs": [
    {
     "data": {
      "text/plain": [
       "0.8592336982389339"
      ]
     },
     "execution_count": 53,
     "metadata": {},
     "output_type": "execute_result"
    }
   ],
   "source": [
    "lamb = 5\n",
    "nu = 4\n",
    "c = 5\n",
    "p = lamb/nu\n",
    "\n",
    "P0 = (1/(c+1)) if p==1 else (((1-p)*p**0)/(1-p**(c+1)))\n",
    "\n",
    "if(p==1):\n",
    "    En = c/2\n",
    "else:\n",
    "    summation = 0\n",
    "    for i in range(c+1):\n",
    "        summation += i*(p**i)\n",
    "    En = P0*summation\n",
    "    \n",
    "lambda_dash = nu*(1-P0)\n",
    "Et = En / lambda_dash\n",
    "Et"
   ]
  },
  {
   "cell_type": "markdown",
   "metadata": {},
   "source": [
    "## Average waiting time in queue"
   ]
  },
  {
   "cell_type": "code",
   "execution_count": 55,
   "metadata": {},
   "outputs": [
    {
     "data": {
      "text/plain": [
       "0.5162720133269871"
      ]
     },
     "execution_count": 55,
     "metadata": {},
     "output_type": "execute_result"
    }
   ],
   "source": [
    "lamb = 5\n",
    "nu = 4\n",
    "c = 5\n",
    "p = lamb/nu\n",
    "\n",
    "P0 = (1/(c+1)) if p==1 else (((1-p)*p**0)/(1-p**(c+1)))\n",
    "\n",
    "if(p==1):\n",
    "    En = c/2\n",
    "else:\n",
    "    summation = 0\n",
    "    for i in range(c+1):\n",
    "        summation += i*(p**i)\n",
    "    En = P0*summation\n",
    "Em = En - p\n",
    "lambda_dash = nu*(1-P0)\n",
    "\n",
    "Ew = Em/lambda_dash\n",
    "Ew"
   ]
  },
  {
   "cell_type": "markdown",
   "metadata": {},
   "source": [
    "# M/G/1 : inf/FIFO"
   ]
  },
  {
   "cell_type": "code",
   "execution_count": null,
   "metadata": {},
   "outputs": [],
   "source": []
  },
  {
   "cell_type": "markdown",
   "metadata": {},
   "source": [
    "## Average number of customers in system"
   ]
  },
  {
   "cell_type": "code",
   "execution_count": 57,
   "metadata": {},
   "outputs": [
    {
     "data": {
      "text/plain": [
       "1.333333333333333"
      ]
     },
     "execution_count": 57,
     "metadata": {},
     "output_type": "execute_result"
    }
   ],
   "source": [
    "lamb = 4\n",
    "nu = 6\n",
    "sd = 0\n",
    "p = lamb/nu\n",
    "\n",
    "En = ((lamb**2)*(sd**2) + (p**2) / (2*(1-p))) + p \n",
    "En"
   ]
  },
  {
   "cell_type": "markdown",
   "metadata": {},
   "source": [
    "## Average queue length"
   ]
  },
  {
   "cell_type": "code",
   "execution_count": 58,
   "metadata": {},
   "outputs": [
    {
     "data": {
      "text/plain": [
       "0.6666666666666665"
      ]
     },
     "execution_count": 58,
     "metadata": {},
     "output_type": "execute_result"
    }
   ],
   "source": [
    "lamb = 4\n",
    "nu = 6\n",
    "sd = 0\n",
    "p = lamb/nu\n",
    "\n",
    "Em = ((lamb**2)*(sd**2) + (p**2) / (2*(1-p)))\n",
    "Em"
   ]
  },
  {
   "cell_type": "markdown",
   "metadata": {},
   "source": [
    "## Average waiting time in queue"
   ]
  },
  {
   "cell_type": "code",
   "execution_count": 59,
   "metadata": {},
   "outputs": [
    {
     "data": {
      "text/plain": [
       "0.16666666666666663"
      ]
     },
     "execution_count": 59,
     "metadata": {},
     "output_type": "execute_result"
    }
   ],
   "source": [
    "lamb = 4\n",
    "nu = 6\n",
    "sd = 0\n",
    "p = lamb/nu\n",
    "\n",
    "Ew= ((lamb**2)*(sd**2) + (p**2) / (2*(1-p)*lamb))\n",
    "Ew"
   ]
  },
  {
   "cell_type": "markdown",
   "metadata": {},
   "source": [
    "## Average waiting time in system"
   ]
  },
  {
   "cell_type": "code",
   "execution_count": 60,
   "metadata": {},
   "outputs": [
    {
     "data": {
      "text/plain": [
       "0.33333333333333326"
      ]
     },
     "execution_count": 60,
     "metadata": {},
     "output_type": "execute_result"
    }
   ],
   "source": [
    "lamb = 4\n",
    "nu = 6\n",
    "sd = 0\n",
    "p = lamb/nu\n",
    "\n",
    "Ew= ((lamb**2)*(sd**2) + (p**2) / (2*(1-p)*lamb)) + (1/nu)\n",
    "Ew"
   ]
  }
 ],
 "metadata": {
  "kernelspec": {
   "display_name": "Python 3",
   "language": "python",
   "name": "python3"
  },
  "language_info": {
   "codemirror_mode": {
    "name": "ipython",
    "version": 3
   },
   "file_extension": ".py",
   "mimetype": "text/x-python",
   "name": "python",
   "nbconvert_exporter": "python",
   "pygments_lexer": "ipython3",
   "version": "3.7.4"
  }
 },
 "nbformat": 4,
 "nbformat_minor": 2
}
